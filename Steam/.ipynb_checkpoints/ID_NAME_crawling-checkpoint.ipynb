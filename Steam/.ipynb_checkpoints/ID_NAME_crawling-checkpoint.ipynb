{
 "cells": [
  {
   "cell_type": "code",
   "execution_count": 1,
   "metadata": {},
   "outputs": [],
   "source": [
    "import pandas as pd\n",
    "import requests\n",
    "import pymysql\n",
    "import json\n",
    "from bs4 import BeautifulSoup\n",
    "from sqlalchemy import create_engine\n",
    "from selenium import webdriver"
   ]
  },
  {
   "cell_type": "code",
   "execution_count": 2,
   "metadata": {},
   "outputs": [],
   "source": [
    "host_name = \"127.0.0.1\"\n",
    "username = \"root\"\n",
    "password = \"\"\n",
    "database_name = \"steam_test\""
   ]
  },
  {
   "cell_type": "code",
   "execution_count": 3,
   "metadata": {},
   "outputs": [],
   "source": [
    "db = pymysql.connect(\n",
    "    host = host_name,\n",
    "    port=3306,\n",
    "    user=username,\n",
    "    passwd=password,\n",
    "    db=database_name,\n",
    "    charset='utf8'\n",
    ")"
   ]
  },
  {
   "cell_type": "code",
   "execution_count": null,
   "metadata": {},
   "outputs": [],
   "source": [
    "# error_count = 0\n",
    "def crolling(count , target):\n",
    "    id_name = {}\n",
    "    while count <= target:\n",
    "        global error_count\n",
    "        error_count = count\n",
    "        res = requests.get('http://store.steampowered.com/app/{}'.format(count))\n",
    "        soup = BeautifulSoup(res.content, 'html.parser')\n",
    "        title = soup.find('title')\n",
    "        print(title.string)\n",
    "        name = title.string\n",
    "        \n",
    "        if name != 'Welcome to Steam':\n",
    "            id_name[count] = name\n",
    "            count += 1\n",
    "        elif name == 'Site Error':\n",
    "            count += 1\n",
    "        else:\n",
    "            count += 1\n",
    "    print(id_name)\n",
    "\n",
    "    try:\n",
    "        cursor = db.cursor()\n",
    "        for k, v in id_name.items():\n",
    "#             appid_name_sql = (\"\"\"\n",
    "#                 INSERT INTO steam_test.steamtable(\n",
    "#                     appid,\n",
    "#                     name\n",
    "#                 ) VALUES (\n",
    "#                     {},\n",
    "#                     \"{}\"\n",
    "#                 ) \n",
    "#                 ON DUPLICATE KEY UPDATE appid={}, name=\"{}\";\n",
    "#             \"\"\".format(k,v,k,v))\n",
    "#     #         print(appid_name_sql)\n",
    "#             cursor.execute(appid_name_sql)\n",
    "#             db.commit()\n",
    "            print(v)\n",
    "            print()\n",
    "    finally:\n",
    "        pass\n",
    "                \n",
    "    return count, target\n",
    "\n",
    "def catch_ex(count, target, lastnum):\n",
    "    try:\n",
    "        crolling(count, target)\n",
    "    except:\n",
    "        print(\"error_count : {}\" .format(error_count))\n",
    "        print(\"예외 발생 count: {}, target: {}\".format(count, target))\n",
    "#         break\n",
    "        count = error_count + 1   \n",
    "        print()\n",
    "        print(\"바뀐 count: {}\".format(count))\n",
    "        catch_ex(count, target, lastnum)\n",
    "#         pass\n",
    "#     finally:\n",
    "#         while count <= lastnum:\n",
    "#             count = target\n",
    "#             target = target\n",
    "#             print(\"새로 시작하는 count: {}, target: {}\".format(count, target))\n",
    "#             crolling(count, target)\n",
    "# #         print(\"end crolling test\")\n",
    "        \n",
    "catch_ex(870, 970, 1000)"
   ]
  }
 ],
 "metadata": {
  "kernelspec": {
   "display_name": "Python 3",
   "language": "python",
   "name": "python3"
  },
  "language_info": {
   "codemirror_mode": {
    "name": "ipython",
    "version": 3
   },
   "file_extension": ".py",
   "mimetype": "text/x-python",
   "name": "python",
   "nbconvert_exporter": "python",
   "pygments_lexer": "ipython3",
   "version": "3.5.3"
  }
 },
 "nbformat": 4,
 "nbformat_minor": 2
}
