{
 "cells": [
  {
   "cell_type": "markdown",
   "metadata": {},
   "source": [
    "### 크롤링 도중 ip 차단을 당했고 실시간으로 ip를 랜덤하게 변환시키는 방법을 찾음<br> 그러나 steamspy에서 제공하는 api로 id와 name을 찾음<br> 시간상의 이유나 모든 상황을 볼때 새로 steam spy에서 크롤링하는것이 더 좋은 판단이라고 생각되어 크롤링을 새로 시작"
   ]
  },
  {
   "cell_type": "markdown",
   "metadata": {},
   "source": []
  },
  {
   "cell_type": "markdown",
   "metadata": {},
   "source": [
    "# 크롤링"
   ]
  },
  {
   "cell_type": "code",
   "execution_count": 6,
   "metadata": {},
   "outputs": [],
   "source": [
    "import time\n",
    "import pandas as pd\n",
    "import requests\n",
    "import pymysql\n",
    "import json\n",
    "from bs4 import BeautifulSoup\n",
    "from sqlalchemy import create_engine\n",
    "from selenium import webdriver"
   ]
  },
  {
   "cell_type": "code",
   "execution_count": 7,
   "metadata": {},
   "outputs": [],
   "source": [
    "host_name = \"127.0.0.1\"\n",
    "username = \"root\"\n",
    "password = \"\"\n",
    "database_name = \"steam_test\""
   ]
  },
  {
   "cell_type": "code",
   "execution_count": 8,
   "metadata": {},
   "outputs": [],
   "source": [
    "db = pymysql.connect(\n",
    "    host = host_name,\n",
    "    port=3306,\n",
    "    user=username,\n",
    "    passwd=password,\n",
    "    db=database_name,\n",
    "    charset='utf8'\n",
    ")"
   ]
  },
  {
   "cell_type": "markdown",
   "metadata": {},
   "source": []
  },
  {
   "cell_type": "markdown",
   "metadata": {},
   "source": [
    "## 테이블 생성"
   ]
  },
  {
   "cell_type": "code",
   "execution_count": 4,
   "metadata": {},
   "outputs": [],
   "source": [
    "start_time = time.time()\n",
    "#-----------------------------------------------------------------------------------------\n",
    "chromedriver = '/home/nincastle/chromedriver/chromedriver' # ubuntu\n",
    "# chromedriver = 'D:\\chromedriver_win32/chromedriver' # windows\n",
    "tags_genre_query = []\n",
    "\n",
    "def name_replace(name):\n",
    "    name = name.replace(\"&\",\"and\").replace(\".\",\"dot\")\\\n",
    "    .replace(\"Mod\",\"Mod_\").replace(\"'\",\"\").replace(\"-\",\"_\").replace(\"Linear\",\"Linear_\")\\\n",
    "    .replace(\"Action\",\"Action_\").replace(\"Foreign\",\"Foreign_\").replace(\"All\",\"All_\")\n",
    "    return name\n",
    "\n",
    "def driver_chrome(url, xpath_):\n",
    "    driver_tags = webdriver.Chrome(chromedriver)\n",
    "    driver_tags.get(url)\n",
    "    print(type(xpath_))\n",
    "    tags = driver_tags.find_element_by_xpath(xpath_)\n",
    "    t_g = tags.find_elements_by_tag_name('a')\n",
    "    driver_tags.quit\n",
    "    return t_g\n",
    "# 테그 변수 이름 크롤링\n",
    "cro_tag = driver_chrome(\"https://steamdb.info/tags/\",\"//div[@class='row list']\")\n",
    "for t in cro_tag:\n",
    "    t = t.text.replace(\" \",\"_\")   \n",
    "    tags_genre_query.append(\"tag_\"+t+' INT(1)')\n",
    "\n",
    "\n",
    "# 장르 변수 이름 크롤링\n",
    "cro_gen = driver_chrome(\"https://steamdb.info/genres/\",\"//div[@class='row']\")\n",
    "for g in cro_gen:\n",
    "    g = g.text.replace(\" \",\"_\")\n",
    "    tags_genre_query.append(\"genre_\"+g+' INT(1)')\n",
    "\n",
    "# driver_tags.quit\n",
    "tag_genre_join = (\", \\n\".join(tags_genre_query))\n",
    "\n",
    "# SQL문 필터링\n",
    "tag_genre_join = name_replace(tag_genre_join)\n",
    "try: \n",
    "    cursor = db.cursor()\n",
    "    SQL_QUERY = \"\"\"\n",
    "    # DROP DATABASE IF EXISTS 테이블이름;\n",
    "    # CREATE DATABASE 테이블이름 DEFAULT CHARSET=utf8 COLLATE=utf8_bin;\n",
    "\n",
    "    USE steam_test;\n",
    "    DROP TABLE IF EXISTS steam_test.data_merge;\n",
    "    CREATE TABLE steam_test.data_merge (\n",
    "        appid int(7),\n",
    "        name varchar(100),\n",
    "        owners int(10),\n",
    "        owners_variance int(7),\n",
    "        negative int(7),\n",
    "        positive int(6),\n",
    "        score_rank int(3),\n",
    "        ccu int(6),\n",
    "        players_2weeks int(8),\n",
    "        players_forever_variance int(7),\n",
    "        players_2weeks_variance int(7),\n",
    "        userscore int(2),\n",
    "        median_forever int(3),\n",
    "        players_forever int(7),\n",
    "        price int(7),\n",
    "        average_2weeks int(5),\n",
    "        developer varchar(300),\n",
    "        median_2weeks int(4),\n",
    "        publisher varchar(100),\n",
    "        average_forever int(6),\n",
    "        tag_Dystopian_ int(1),\n",
    "        tag_Parody_ int(1),\n",
    "        tag_VR_Only int(1),\n",
    "        \"\"\"+tag_genre_join+\"\"\",\n",
    "        PRIMARY KEY(appid)\n",
    "        ) DEFAULT CHARSET=utf8 COLLATE=utf8_bin\n",
    "    \"\"\"\n",
    "\n",
    "    create_sql=(\"\".join(SQL_QUERY))\n",
    "    print(create_sql)\n",
    "    cursor.execute(create_sql)\n",
    "    db.commit()\n",
    "finally:\n",
    "    print(\"ok!\")\n",
    "    pass\n",
    "\n",
    "#----------------------------------------------------------------------------------------    \n",
    "end_time = time.time()\n",
    "print(\"{} 초(처리시간)\".format(end_time-start_time))"
   ]
  },
  {
   "cell_type": "markdown",
   "metadata": {},
   "source": []
  },
  {
   "cell_type": "markdown",
   "metadata": {},
   "source": [
    "### 초기 ID, name 데이터"
   ]
  },
  {
   "cell_type": "code",
   "execution_count": 5,
   "metadata": {},
   "outputs": [],
   "source": [
    "start_time = time.time()\n",
    "#-----------------------------------------------------------------------------------------\n",
    "with open(\"request_all.txt\",\"r\") as file:\n",
    "    f = file.read()\n",
    "    data = json.loads(f)\n",
    "    for k,v in data.items():\n",
    "        key = []\n",
    "        value = []\n",
    "        for k2,v2 in v.items():\n",
    "            print(k2,\" : \",v2)\n",
    "            if k2 == \"score_rank\":\n",
    "                if v2 == \"\":\n",
    "                    v2 = 0\n",
    "            elif k2 == \"developer\" or k2 ==\"publisher\":\n",
    "                if v2 ==\"\":\n",
    "                    v2 = \"null\"\n",
    "            elif k2 == \"price\":\n",
    "                if v2 == \"\":\n",
    "                    v2 == 999999                    \n",
    "            key.append(k2)\n",
    "            value.append(v2)\n",
    "            \n",
    "        key = tuple(key)\n",
    "        key = \", \".join(key)\n",
    "        value = tuple(value)\n",
    "        sql =\"\"\"\n",
    "            INSERT INTO steam_test.steamtable2 ({}) \n",
    "            VALUES \n",
    "            {};\n",
    "            \"\"\".format(key, value)\n",
    "        print(sql)\n",
    "        cursor.execute(sql)\n",
    "        db.commit()\n",
    "#----------------------------------------------------------------------------------------    \n",
    "end_time = time.time()\n",
    "print(\"{} 초(처리시간)\".format(end_time-start_time))"
   ]
  },
  {
   "cell_type": "markdown",
   "metadata": {},
   "source": []
  },
  {
   "cell_type": "markdown",
   "metadata": {},
   "source": [
    "### 최종데이터 (크롤링 기간 2018-01-16~2018-01-19)"
   ]
  },
  {
   "cell_type": "code",
   "execution_count": 9,
   "metadata": {
    "scrolled": true
   },
   "outputs": [],
   "source": [
    "start_time = time.time()\n",
    "#-----------------------------------------------------------------------------------------\n",
    "\n",
    "def name_replace(name):\n",
    "    name = name.replace(\"&\",\"and\").replace(\".\",\"dot\")\\\n",
    "    .replace(\"Mod\",\"Mod_\").replace(\"'\",\"\").replace(\"-\",\"_\").replace(\"Linear\",\"Linear_\")\\\n",
    "    .replace(\"Action\",\"Action_\").replace(\"Foreign\",\"Foreign_\").replace(\"All\",\"All_\")\n",
    "    return name\n",
    "\n",
    "def select_number(start, last):\n",
    "    get_data = \"\"\"\n",
    "    # select appid, name from steamtable2 LIMIT 2\n",
    "    SELECT appid, name\n",
    "    FROM steamtable2\n",
    "    WHERE\n",
    "        appid BETWEEN {} AND {};\n",
    "    \"\"\".format(start, last)\n",
    "    \n",
    "    cursor = db.cursor()\n",
    "    cursor.execute(get_data)\n",
    "    row_names = cursor.fetchall()\n",
    "\n",
    "    count = 0\n",
    "    for s_num in row_names:\n",
    "        print(s_num[0],s_num[1],count)\n",
    "        count += 1  \n",
    "        column_str=[]\n",
    "        row_str=[]\n",
    "        \n",
    "        steamspy_url =('https://steamspy.com/api.php?request=appdetails&appid={}'.format(s_num[0]))\n",
    "        appdetails_response = requests.get(steamspy_url)\n",
    "        data = appdetails_response.json()\n",
    "        \n",
    "        for data_k, data_v in data.items():\n",
    "            data_k = name_replace(data_k).replace(\" \",\"_\")  \n",
    "            if data_k == 'tags':\n",
    "                if data['tags'] == []:\n",
    "                    pass\n",
    "                else:\n",
    "                    for tag_k ,tag_v in data['tags'].items():\n",
    "                        tag_k = name_replace(tag_k).replace(\" \",\"_\")\n",
    "                        column_str.append((\"tag_{}\").format(tag_k))\n",
    "                        row_str.append(1)\n",
    "                        \n",
    "            elif data_k == \"score_rank\":\n",
    "                if data_k == \"\":\n",
    "                    column_str.append(data_k)\n",
    "                    row_str.append(0)\n",
    "                    \n",
    "            elif data_k == \"developer\" or data_k ==\"publisher\":\n",
    "                if data_v ==\"\":\n",
    "                    column_str.append(data_k)\n",
    "                    row_str.append(\"null\")\n",
    "                    \n",
    "            elif data_k == \"price\":\n",
    "                if data_v == \"\":\n",
    "                    column_str.append(data_k)\n",
    "                    row_str.append(999999)\n",
    "                    \n",
    "            else:\n",
    "                column_str.append(data_k)\n",
    "                row_str.append(data_v)\n",
    "        try:\n",
    "            cursor = db.cursor()\n",
    "            sql = (\"INSERT INTO steam_test.data_merge (\"+(\",\".join(column_str)+\") VALUES {}\"\\\n",
    "                                                          .format(tuple(row_str))))\n",
    "            cursor.execute(sql)\n",
    "            db.commit()\n",
    "        finally:\n",
    "            pass    \n",
    "#----------------------------------------------------------------------------------------\n",
    "\n",
    "\n",
    "select_number(10, 999999)\n",
    "#----------------------------------------------------------------------------------------    \n",
    "end_time = time.time()\n",
    "print(\"{} 초(처리시간)\".format(end_time-start_time))"
   ]
  },
  {
   "cell_type": "markdown",
   "metadata": {},
   "source": []
  },
  {
   "cell_type": "markdown",
   "metadata": {},
   "source": [
    "# 데이터 정제"
   ]
  },
  {
   "cell_type": "markdown",
   "metadata": {},
   "source": [
    "추가\n",
    "* data_merge + steamtable2"
   ]
  },
  {
   "cell_type": "code",
   "execution_count": 57,
   "metadata": {},
   "outputs": [],
   "source": [
    "copy_table = \"\"\"\n",
    "DROP TABLE IF EXISTS steam_test.merge_steam;\n",
    "create table steam_test.merge_steam like steam_test.data_merge\n",
    "\"\"\"\n",
    "insert_data_merge = \"\"\"\n",
    "INSERT INTO steam_test.merge_steam \n",
    "SELECT * FROM steam_test.data_merge;\n",
    "\"\"\"\n",
    "delet_publisher = \"\"\"\n",
    "update merge_steam\n",
    "set publisher = null\n",
    "where publisher is not null;\n",
    "\"\"\"\n",
    "delet_developer = \"\"\"\n",
    "update merge_steam\n",
    "set developer = null\n",
    "where developer is not null;\n",
    "\"\"\""
   ]
  },
  {
   "cell_type": "code",
   "execution_count": 58,
   "metadata": {},
   "outputs": [
    {
     "name": "stdout",
     "output_type": "stream",
     "text": [
      "3.707911729812622 초(처리시간)\n"
     ]
    }
   ],
   "source": [
    "start_time = time.time()\n",
    "#-----------------------------------------------------------------------------------------\n",
    "cursor = db.cursor()\n",
    "cursor.execute(copy_table)\n",
    "cursor.execute(insert_data_merge)\n",
    "cursor.execute(delet_developer)\n",
    "cursor.execute(delet_publisher)\n",
    "db.commit()\n",
    "#----------------------------------------------------------------------------------------    \n",
    "end_time = time.time()\n",
    "print(\"{} 초(처리시간)\".format(end_time-start_time))"
   ]
  },
  {
   "cell_type": "code",
   "execution_count": null,
   "metadata": {},
   "outputs": [],
   "source": [
    "start_time = time.time()\n",
    "#-----------------------------------------------------------------------------------------\n",
    "test_steamtable2 =\"\"\"\n",
    "SELECT appid, score_rank, price, developer, publisher FROM steamtable2\n",
    "\"\"\"\n",
    "cursor = db.cursor()\n",
    "cursor.execute(test_steamtable2)\n",
    "a_data = cursor.fetchall()\n",
    "for i in a_data:\n",
    "#     print(\"appid : {}, score_rank: {}, price: {}, developer: {}, publisher:{}\".format(i[0], i[1], i[2], i[3], i[4]))\n",
    "    try:\n",
    "        update_data = \"\"\"\n",
    "        update merge_steam\n",
    "        set score_rank = {}, price = {}, developer = \"{}\", publisher = \"{}\"\n",
    "        where appid = {};\n",
    "        \"\"\".format(i[1], i[2], i[3], i[4], i[0])\n",
    "        print(update_data)\n",
    "        cursor.execute(update_data)\n",
    "    #     print(update_data)\n",
    "    except:\n",
    "        update_data = \"\"\"\n",
    "        update merge_steam\n",
    "        set score_rank = {}, price = {}, developer = '{}', publisher = '{}'\n",
    "        where appid = {};\n",
    "        \"\"\".format(i[1], i[2], i[3], i[4], i[0])\n",
    "        print(update_data)\n",
    "        cursor.execute(update_data)\n",
    "            \n",
    "db.commit()\n",
    "#----------------------------------------------------------------------------------------    \n",
    "end_time = time.time()\n",
    "print(\"{} 초(처리시간)\".format(end_time-start_time))"
   ]
  },
  {
   "cell_type": "markdown",
   "metadata": {},
   "source": [
    "teg, genre null to 0"
   ]
  },
  {
   "cell_type": "code",
   "execution_count": null,
   "metadata": {},
   "outputs": [],
   "source": [
    "start_time = time.time()\n",
    "#-----------------------------------------------------------------------------------------\n",
    "# 변수명\n",
    "c_name = \"\"\"\n",
    "SELECT COLUMN_NAME\n",
    "FROM information_schema.columns \n",
    "WHERE \n",
    "    table_schema = 'steam_test' \n",
    "    AND \n",
    "    table_name = 'merge_steam';\n",
    "\"\"\"\n",
    "cursor = db.cursor()\n",
    "cursor.execute(c_name)\n",
    "\n",
    "# tag range 20 ~ 362\n",
    "# genre range 363 ~ 387\n",
    "\n",
    "tg_list = []\n",
    "for a in cursor:\n",
    "    a = str(a)\n",
    "    filter_a = a.replace(\"'\",\"\").replace(\",\",\"\")\n",
    "    tg_list.append(filter_a)\n",
    "\n",
    "for a in tg_list[21:387]:\n",
    "    a = a.replace(\"(\",\"\").replace(\")\",\"\")\n",
    "    sql_a = \"update steam_test.merge_steam set {} = IFNULL({}, 0); \".format(a, a)\n",
    "    print(sql_a)\n",
    "    cursor.execute(sql_a)\n",
    "\n",
    "db.commit()\n",
    "cursor.close()\n",
    "#----------------------------------------------------------------------------------------    \n",
    "end_time = time.time()\n",
    "print(\"{} 초(처리시간)\".format(end_time-start_time))"
   ]
  }
 ],
 "metadata": {
  "kernelspec": {
   "display_name": "Python 3",
   "language": "python",
   "name": "python3"
  },
  "language_info": {
   "codemirror_mode": {
    "name": "ipython",
    "version": 3
   },
   "file_extension": ".py",
   "mimetype": "text/x-python",
   "name": "python",
   "nbconvert_exporter": "python",
   "pygments_lexer": "ipython3",
   "version": "3.5.3"
  }
 },
 "nbformat": 4,
 "nbformat_minor": 2
}
