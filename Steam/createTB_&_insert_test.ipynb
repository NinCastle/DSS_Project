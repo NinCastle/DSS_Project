{
 "cells": [
  {
   "cell_type": "code",
<<<<<<< HEAD
   "execution_count": 1,
=======
   "execution_count": 5,
>>>>>>> b793b19177d6a117fbf5d1389844e0840bece5b1
   "metadata": {},
   "outputs": [],
   "source": [
    "import pandas as pd\n",
    "import requests\n",
    "import pymysql\n",
    "import json\n",
    "from bs4 import BeautifulSoup\n",
    "from sqlalchemy import create_engine\n",
    "from selenium import webdriver"
   ]
  },
  {
   "cell_type": "code",
<<<<<<< HEAD
   "execution_count": 2,
   "metadata": {},
   "outputs": [],
   "source": [
    "host_name = \"127.0.0.1\"\n",
    "username = \"root\"\n",
    "password = \"\"\n",
    "database_name = \"steam_test\""
   ]
  },
  {
   "cell_type": "code",
   "execution_count": 3,
   "metadata": {},
   "outputs": [],
   "source": [
=======
   "execution_count": 32,
   "metadata": {},
   "outputs": [
    {
     "name": "stdout",
     "output_type": "stream",
     "text": [
      "<class 'str'>\n",
      "<class 'str'>\n",
      "table create ok!\n",
      "\n",
      "INSERT INTO steam_test.steamtable (appid,median_forever,average_forever,tag_Simulation,tag_RPG,tag_Action__RPG,tag_Multiplayer,tag_Character_Customization,tag_Co_op,tag_Team_Based,tag_RTS,tag_Online_Co_Op,tag_PvP,tag_Replay_Value,tag_Competitive,tag_Free_to_Play,tag_Difficult,tag_MOBA,tag_Tower_Defense,tag_Action_,tag_Fantasy,tag_Strategy,tag_e_sports,median_2weeks,score_rank,negative,players_2weeks,developer,publisher,userscore,average_2weeks,owners,price,name,positive,players_forever,owners_variance,players_forever_variance,ccu,players_2weeks_variance) VALUES (570, 255, 11721, 1, 1, 1, 1, 1, 1, 1, 1, 1, 1, 1, 1, 1, 1, 1, 1, 1, 1, 1, 1, 623, 64, 102501, 9403855, 'Valve', 'Valve', 87, 1152, 118517616, '0', 'Dota 2', 745900, 118517616, 280846, 280846, 795976, 89900)\n",
      "insert ok!\n"
     ]
    }
   ],
   "source": [
    "host_name = \"127.0.0.1\"\n",
    "username = \"root\"\n",
    "password = \"dlstjd88\"\n",
    "database_name = \"steam_test\"\n",
    "\n",
>>>>>>> b793b19177d6a117fbf5d1389844e0840bece5b1
    "db = pymysql.connect(\n",
    "    host = host_name,\n",
    "    port=3306,\n",
    "    user=username,\n",
    "    passwd=password,\n",
    "    db=database_name,\n",
    "    charset='utf8'\n",
<<<<<<< HEAD
    ")"
   ]
  },
  {
   "cell_type": "markdown",
   "metadata": {},
   "source": [
    "## ID, Name 추출"
   ]
  },
  {
   "cell_type": "code",
   "execution_count": null,
   "metadata": {},
   "outputs": [],
   "source": [
    "https://steamdb.info/instantsearch/?q=&hPP=20&idx=steamdb&p=0&dFR%5BappType%5D%5B0%5D=Game\n",
    "https://steamdb.info/instantsearch/?q=&hPP=20&idx=steamdb&p=1&dFR%5BappType%5D%5B0%5D=Game"
   ]
  },
  {
   "cell_type": "code",
   "execution_count": null,
   "metadata": {},
   "outputs": [],
   "source": [
    "count = 0\n",
    "res = requests.get('https://steamdb.info/instantsearch/?q=&hPP=20&idx=steamdb&p={}&dFR%5BappType%5D%5B0%5D=Game'.format(count))\n",
    "soup = BeautifulSoup(res.content, 'html.parser')\n",
    "title = soup.find('')\n",
    "    \n",
    "for title in my_titles:\n",
    "    # Tag안의 텍스트\n",
    "    print(title.text)\n",
    "    # Tag의 속성을 가져오기(ex: href속성)\n",
    "    print(title.get('href'))"
   ]
  },
  {
   "cell_type": "code",
   "execution_count": 7,
   "metadata": {},
   "outputs": [
    {
     "ename": "TooManyRedirects",
     "evalue": "Exceeded 30 redirects.",
     "output_type": "error",
     "traceback": [
      "\u001b[0;31m---------------------------------------------------------------------------\u001b[0m",
      "\u001b[0;31mTooManyRedirects\u001b[0m                          Traceback (most recent call last)",
      "\u001b[0;32m<ipython-input-7-6585c8cfdab9>\u001b[0m in \u001b[0;36m<module>\u001b[0;34m()\u001b[0m\n\u001b[1;32m      2\u001b[0m \u001b[0mcount\u001b[0m \u001b[0;34m=\u001b[0m \u001b[0;36m700\u001b[0m\u001b[0;34m\u001b[0m\u001b[0m\n\u001b[1;32m      3\u001b[0m \u001b[0;32mwhile\u001b[0m \u001b[0mcount\u001b[0m \u001b[0;34m<=\u001b[0m \u001b[0;36m900\u001b[0m\u001b[0;34m:\u001b[0m\u001b[0;34m\u001b[0m\u001b[0m\n\u001b[0;32m----> 4\u001b[0;31m     \u001b[0mres\u001b[0m \u001b[0;34m=\u001b[0m \u001b[0mrequests\u001b[0m\u001b[0;34m.\u001b[0m\u001b[0mget\u001b[0m\u001b[0;34m(\u001b[0m\u001b[0;34m'http://store.steampowered.com/app/{}'\u001b[0m\u001b[0;34m.\u001b[0m\u001b[0mformat\u001b[0m\u001b[0;34m(\u001b[0m\u001b[0mcount\u001b[0m\u001b[0;34m)\u001b[0m\u001b[0;34m)\u001b[0m\u001b[0;34m\u001b[0m\u001b[0m\n\u001b[0m\u001b[1;32m      5\u001b[0m     \u001b[0msoup\u001b[0m \u001b[0;34m=\u001b[0m \u001b[0mBeautifulSoup\u001b[0m\u001b[0;34m(\u001b[0m\u001b[0mres\u001b[0m\u001b[0;34m.\u001b[0m\u001b[0mcontent\u001b[0m\u001b[0;34m,\u001b[0m \u001b[0;34m'html.parser'\u001b[0m\u001b[0;34m)\u001b[0m\u001b[0;34m\u001b[0m\u001b[0m\n\u001b[1;32m      6\u001b[0m     \u001b[0mtitle\u001b[0m \u001b[0;34m=\u001b[0m \u001b[0msoup\u001b[0m\u001b[0;34m.\u001b[0m\u001b[0mfind\u001b[0m\u001b[0;34m(\u001b[0m\u001b[0;34m'title'\u001b[0m\u001b[0;34m)\u001b[0m\u001b[0;34m\u001b[0m\u001b[0m\n",
      "\u001b[0;32m~/anaconda3/lib/python3.5/site-packages/requests/api.py\u001b[0m in \u001b[0;36mget\u001b[0;34m(url, params, **kwargs)\u001b[0m\n\u001b[1;32m     70\u001b[0m \u001b[0;34m\u001b[0m\u001b[0m\n\u001b[1;32m     71\u001b[0m     \u001b[0mkwargs\u001b[0m\u001b[0;34m.\u001b[0m\u001b[0msetdefault\u001b[0m\u001b[0;34m(\u001b[0m\u001b[0;34m'allow_redirects'\u001b[0m\u001b[0;34m,\u001b[0m \u001b[0;32mTrue\u001b[0m\u001b[0;34m)\u001b[0m\u001b[0;34m\u001b[0m\u001b[0m\n\u001b[0;32m---> 72\u001b[0;31m     \u001b[0;32mreturn\u001b[0m \u001b[0mrequest\u001b[0m\u001b[0;34m(\u001b[0m\u001b[0;34m'get'\u001b[0m\u001b[0;34m,\u001b[0m \u001b[0murl\u001b[0m\u001b[0;34m,\u001b[0m \u001b[0mparams\u001b[0m\u001b[0;34m=\u001b[0m\u001b[0mparams\u001b[0m\u001b[0;34m,\u001b[0m \u001b[0;34m**\u001b[0m\u001b[0mkwargs\u001b[0m\u001b[0;34m)\u001b[0m\u001b[0;34m\u001b[0m\u001b[0m\n\u001b[0m\u001b[1;32m     73\u001b[0m \u001b[0;34m\u001b[0m\u001b[0m\n\u001b[1;32m     74\u001b[0m \u001b[0;34m\u001b[0m\u001b[0m\n",
      "\u001b[0;32m~/anaconda3/lib/python3.5/site-packages/requests/api.py\u001b[0m in \u001b[0;36mrequest\u001b[0;34m(method, url, **kwargs)\u001b[0m\n\u001b[1;32m     56\u001b[0m     \u001b[0;31m# cases, and look like a memory leak in others.\u001b[0m\u001b[0;34m\u001b[0m\u001b[0;34m\u001b[0m\u001b[0m\n\u001b[1;32m     57\u001b[0m     \u001b[0;32mwith\u001b[0m \u001b[0msessions\u001b[0m\u001b[0;34m.\u001b[0m\u001b[0mSession\u001b[0m\u001b[0;34m(\u001b[0m\u001b[0;34m)\u001b[0m \u001b[0;32mas\u001b[0m \u001b[0msession\u001b[0m\u001b[0;34m:\u001b[0m\u001b[0;34m\u001b[0m\u001b[0m\n\u001b[0;32m---> 58\u001b[0;31m         \u001b[0;32mreturn\u001b[0m \u001b[0msession\u001b[0m\u001b[0;34m.\u001b[0m\u001b[0mrequest\u001b[0m\u001b[0;34m(\u001b[0m\u001b[0mmethod\u001b[0m\u001b[0;34m=\u001b[0m\u001b[0mmethod\u001b[0m\u001b[0;34m,\u001b[0m \u001b[0murl\u001b[0m\u001b[0;34m=\u001b[0m\u001b[0murl\u001b[0m\u001b[0;34m,\u001b[0m \u001b[0;34m**\u001b[0m\u001b[0mkwargs\u001b[0m\u001b[0;34m)\u001b[0m\u001b[0;34m\u001b[0m\u001b[0m\n\u001b[0m\u001b[1;32m     59\u001b[0m \u001b[0;34m\u001b[0m\u001b[0m\n\u001b[1;32m     60\u001b[0m \u001b[0;34m\u001b[0m\u001b[0m\n",
      "\u001b[0;32m~/anaconda3/lib/python3.5/site-packages/requests/sessions.py\u001b[0m in \u001b[0;36mrequest\u001b[0;34m(self, method, url, params, data, headers, cookies, files, auth, timeout, allow_redirects, proxies, hooks, stream, verify, cert, json)\u001b[0m\n\u001b[1;32m    506\u001b[0m         }\n\u001b[1;32m    507\u001b[0m         \u001b[0msend_kwargs\u001b[0m\u001b[0;34m.\u001b[0m\u001b[0mupdate\u001b[0m\u001b[0;34m(\u001b[0m\u001b[0msettings\u001b[0m\u001b[0;34m)\u001b[0m\u001b[0;34m\u001b[0m\u001b[0m\n\u001b[0;32m--> 508\u001b[0;31m         \u001b[0mresp\u001b[0m \u001b[0;34m=\u001b[0m \u001b[0mself\u001b[0m\u001b[0;34m.\u001b[0m\u001b[0msend\u001b[0m\u001b[0;34m(\u001b[0m\u001b[0mprep\u001b[0m\u001b[0;34m,\u001b[0m \u001b[0;34m**\u001b[0m\u001b[0msend_kwargs\u001b[0m\u001b[0;34m)\u001b[0m\u001b[0;34m\u001b[0m\u001b[0m\n\u001b[0m\u001b[1;32m    509\u001b[0m \u001b[0;34m\u001b[0m\u001b[0m\n\u001b[1;32m    510\u001b[0m         \u001b[0;32mreturn\u001b[0m \u001b[0mresp\u001b[0m\u001b[0;34m\u001b[0m\u001b[0m\n",
      "\u001b[0;32m~/anaconda3/lib/python3.5/site-packages/requests/sessions.py\u001b[0m in \u001b[0;36msend\u001b[0;34m(self, request, **kwargs)\u001b[0m\n\u001b[1;32m    638\u001b[0m \u001b[0;34m\u001b[0m\u001b[0m\n\u001b[1;32m    639\u001b[0m         \u001b[0;31m# Resolve redirects if allowed.\u001b[0m\u001b[0;34m\u001b[0m\u001b[0;34m\u001b[0m\u001b[0m\n\u001b[0;32m--> 640\u001b[0;31m         \u001b[0mhistory\u001b[0m \u001b[0;34m=\u001b[0m \u001b[0;34m[\u001b[0m\u001b[0mresp\u001b[0m \u001b[0;32mfor\u001b[0m \u001b[0mresp\u001b[0m \u001b[0;32min\u001b[0m \u001b[0mgen\u001b[0m\u001b[0;34m]\u001b[0m \u001b[0;32mif\u001b[0m \u001b[0mallow_redirects\u001b[0m \u001b[0;32melse\u001b[0m \u001b[0;34m[\u001b[0m\u001b[0;34m]\u001b[0m\u001b[0;34m\u001b[0m\u001b[0m\n\u001b[0m\u001b[1;32m    641\u001b[0m \u001b[0;34m\u001b[0m\u001b[0m\n\u001b[1;32m    642\u001b[0m         \u001b[0;31m# Shuffle things around if there's history.\u001b[0m\u001b[0;34m\u001b[0m\u001b[0;34m\u001b[0m\u001b[0m\n",
      "\u001b[0;32m~/anaconda3/lib/python3.5/site-packages/requests/sessions.py\u001b[0m in \u001b[0;36m<listcomp>\u001b[0;34m(.0)\u001b[0m\n\u001b[1;32m    638\u001b[0m \u001b[0;34m\u001b[0m\u001b[0m\n\u001b[1;32m    639\u001b[0m         \u001b[0;31m# Resolve redirects if allowed.\u001b[0m\u001b[0;34m\u001b[0m\u001b[0;34m\u001b[0m\u001b[0m\n\u001b[0;32m--> 640\u001b[0;31m         \u001b[0mhistory\u001b[0m \u001b[0;34m=\u001b[0m \u001b[0;34m[\u001b[0m\u001b[0mresp\u001b[0m \u001b[0;32mfor\u001b[0m \u001b[0mresp\u001b[0m \u001b[0;32min\u001b[0m \u001b[0mgen\u001b[0m\u001b[0;34m]\u001b[0m \u001b[0;32mif\u001b[0m \u001b[0mallow_redirects\u001b[0m \u001b[0;32melse\u001b[0m \u001b[0;34m[\u001b[0m\u001b[0;34m]\u001b[0m\u001b[0;34m\u001b[0m\u001b[0m\n\u001b[0m\u001b[1;32m    641\u001b[0m \u001b[0;34m\u001b[0m\u001b[0m\n\u001b[1;32m    642\u001b[0m         \u001b[0;31m# Shuffle things around if there's history.\u001b[0m\u001b[0;34m\u001b[0m\u001b[0;34m\u001b[0m\u001b[0m\n",
      "\u001b[0;32m~/anaconda3/lib/python3.5/site-packages/requests/sessions.py\u001b[0m in \u001b[0;36mresolve_redirects\u001b[0;34m(self, resp, req, stream, timeout, verify, cert, proxies, yield_requests, **adapter_kwargs)\u001b[0m\n\u001b[1;32m    138\u001b[0m \u001b[0;34m\u001b[0m\u001b[0m\n\u001b[1;32m    139\u001b[0m             \u001b[0;32mif\u001b[0m \u001b[0mlen\u001b[0m\u001b[0;34m(\u001b[0m\u001b[0mresp\u001b[0m\u001b[0;34m.\u001b[0m\u001b[0mhistory\u001b[0m\u001b[0;34m)\u001b[0m \u001b[0;34m>=\u001b[0m \u001b[0mself\u001b[0m\u001b[0;34m.\u001b[0m\u001b[0mmax_redirects\u001b[0m\u001b[0;34m:\u001b[0m\u001b[0;34m\u001b[0m\u001b[0m\n\u001b[0;32m--> 140\u001b[0;31m                 \u001b[0;32mraise\u001b[0m \u001b[0mTooManyRedirects\u001b[0m\u001b[0;34m(\u001b[0m\u001b[0;34m'Exceeded %s redirects.'\u001b[0m \u001b[0;34m%\u001b[0m \u001b[0mself\u001b[0m\u001b[0;34m.\u001b[0m\u001b[0mmax_redirects\u001b[0m\u001b[0;34m,\u001b[0m \u001b[0mresponse\u001b[0m\u001b[0;34m=\u001b[0m\u001b[0mresp\u001b[0m\u001b[0;34m)\u001b[0m\u001b[0;34m\u001b[0m\u001b[0m\n\u001b[0m\u001b[1;32m    141\u001b[0m \u001b[0;34m\u001b[0m\u001b[0m\n\u001b[1;32m    142\u001b[0m             \u001b[0;31m# Release the connection back into the pool.\u001b[0m\u001b[0;34m\u001b[0m\u001b[0;34m\u001b[0m\u001b[0m\n",
      "\u001b[0;31mTooManyRedirects\u001b[0m: Exceeded 30 redirects."
     ]
    }
   ],
   "source": [
    "id_name = {}\n",
    "# count = 700\n",
    "# while count <= 800:\n",
    "#     res = requests.get('http://store.steampowered.com/app/{}'.format(count))\n",
    "#     soup = BeautifulSoup(res.content, 'html.parser')\n",
    "#     title = soup.find('title')\n",
    "#     name = title.string\n",
    "#     if name != 'Welcome to Steam':\n",
    "#         id_name[count] = name\n",
    "#         count += 1\n",
    "#     elif name == 'Site Error':\n",
    "#         count += 1\n",
    "#     else:\n",
    "#         count += 1\n",
    "# print(id_name)\n",
    "\n",
    "\n",
    "    \n",
    "try:\n",
    "    cursor = db.cursor()\n",
    "    for k, v in id_name.items():\n",
    "        appid_name_sql = (\"\"\"\n",
    "            INSERT INTO steam_test.steamtable(\n",
    "                appid,\n",
    "                name\n",
    "            ) VALUES (\n",
    "                {},\n",
    "                \"{}\"\n",
    "            ) \n",
    "            ON DUPLICATE KEY UPDATE appid={}, name=\"{}\";\n",
    "        \"\"\".format(k,v,k,v))\n",
    "#         print(appid_name_sql)\n",
    "        cursor.execute(appid_name_sql)\n",
    "        db.commit()\n",
    "        print(v)\n",
    "        print()\n",
    "finally:\n",
    "    pass"
   ]
  },
  {
   "cell_type": "code",
   "execution_count": null,
   "metadata": {},
   "outputs": [],
   "source": []
  },
  {
   "cell_type": "code",
   "execution_count": null,
   "metadata": {},
   "outputs": [],
   "source": []
  },
  {
   "cell_type": "markdown",
   "metadata": {},
   "source": [
    "## CREATE, INSERT [MySQL]"
   ]
  },
  {
   "cell_type": "code",
   "execution_count": null,
   "metadata": {},
   "outputs": [],
   "source": [
=======
    ")\n",
    "\n",
>>>>>>> b793b19177d6a117fbf5d1389844e0840bece5b1
    "count = 570\n",
    "chromedriver = '/home/nincastle/chromedriver/chromedriver'\n",
    "tags_genre_query = []\n",
    "\n",
    "def name_replace(name):\n",
    "    name = name.replace(\"&\",\"and\").replace(\".\",\"dot\")\\\n",
    "    .replace(\"Mod\",\"Mod_\").replace(\"'\",\"\").replace(\"-\",\"_\").replace(\"Linear\",\"Linear_\")\\\n",
    "    .replace(\"Action\",\"Action_\").replace(\"Foreign\",\"Foreign_\").replace(\"All\",\"All_\")\n",
    "    return name\n",
    "\n",
    "def driver_chrome(url, xpath_):\n",
    "    driver_tags = webdriver.Chrome(chromedriver)\n",
    "    driver_tags.get(url)\n",
    "    print(type(xpath_))\n",
    "    tags = driver_tags.find_element_by_xpath(xpath_)\n",
    "    t_g = tags.find_elements_by_tag_name('a')\n",
    "    driver_tags.quit\n",
    "    return t_g\n",
    "\n",
    "# 테그 변수 이름 크롤링\n",
    "cro_tag = driver_chrome(\"https://steamdb.info/tags/\",\"//div[@class='row list']\")\n",
    "for t in cro_tag:\n",
    "    t = t.text.replace(\" \",\"_\")   \n",
    "    tags_genre_query.append(\"tag_\"+t+' INT(1)')\n",
    "\n",
    "\n",
    "# 장르 변수 이름 크롤링\n",
    "cro_gen = driver_chrome(\"https://steamdb.info/genres/\",\"//div[@class='row']\")\n",
    "for g in cro_gen:\n",
    "    g = g.text.replace(\" \",\"_\")\n",
    "    tags_genre_query.append(\"genre_\"+g+' INT(1)')\n",
    "\n",
    "# driver_tags.quit\n",
    "tag_genre_join = (\", \\n\".join(tags_genre_query))\n",
    "\n",
    "# SQL문 필터링\n",
    "tag_genre_join = name_replace(tag_genre_join)\n",
    "try: \n",
    "    cursor = db.cursor()\n",
    "    SQL_QUERY = \"\"\"\n",
    "    DROP DATABASE IF EXISTS steam_test;\n",
    "    CREATE DATABASE steam_test DEFAULT CHARSET=utf8 COLLATE=utf8_bin;\n",
    "\n",
    "    USE steam_test;\n",
    "    DROP TABLE IF EXISTS steam_test.steamtable;\n",
    "    CREATE TABLE steam_test.steamtable (\n",
    "        appid int(7),\n",
    "        name varchar(100),\n",
    "        owners int(10),\n",
    "        owners_variance int(7),\n",
    "        negative int(7),\n",
    "        positive int(6),\n",
    "        score_rank int(3),\n",
    "        ccu int(6),\n",
    "        players_2weeks int(8),\n",
    "        players_forever_variance int(7),\n",
    "        players_2weeks_variance int(7),\n",
    "        userscore int(2),\n",
    "        median_forever int(3),\n",
    "        players_forever int(7),\n",
    "        price int(7),\n",
    "        average_2weeks int(5),\n",
    "        developer varchar(50),\n",
    "        median_2weeks int(4),\n",
    "        publisher varchar(50),\n",
    "        average_forever int(6),\n",
    "        \"\"\"+tag_genre_join+\"\"\",\n",
    "        PRIMARY KEY(appid)\n",
    "        ) DEFAULT CHARSET=utf8 COLLATE=utf8_bin\n",
    "    \"\"\"\n",
    "    create_sql=(\"\".join(SQL_QUERY))\n",
<<<<<<< HEAD
    "\n",
=======
    "#     print(create_sql)\n",
>>>>>>> b793b19177d6a117fbf5d1389844e0840bece5b1
    "    cursor.execute(create_sql)\n",
    "    db.commit()\n",
    "finally:\n",
    "    print(\"table create ok!\")\n",
    "    pass\n",
    "\n",
    "while count < 571:\n",
    "    \n",
    "    column_str=[]\n",
    "    row_str=[]\n",
<<<<<<< HEAD
=======
    "#     not_tag_key=[]\n",
>>>>>>> b793b19177d6a117fbf5d1389844e0840bece5b1
    "    \n",
    "    steamspy_url =('https://steamspy.com/api.php?request=appdetails&appid={}'.format(count))\n",
    "    appdetails_response = requests.get(steamspy_url)\n",
    "    data = appdetails_response.json()\n",
<<<<<<< HEAD
    "\n",
    "    for data_k, data_v in data.items():\n",
    "        data_k = name_replace(data_k).replace(\" \",\"_\")  \n",
    "\n",
=======
    "#     print(appdetails_response.json())\n",
    "    for data_k, data_v in data.items():\n",
    "        data_k = name_replace(data_k).replace(\" \",\"_\")  \n",
    "#         data_v = name_replace(data_v)\n",
>>>>>>> b793b19177d6a117fbf5d1389844e0840bece5b1
    "        if data_k == 'tags':\n",
    "            for tag_k ,tag_v in data['tags'].items():\n",
    "                tag_k = name_replace(tag_k).replace(\" \",\"_\")  \n",
    "                column_str.append((\"tag_{}\").format(tag_k))\n",
    "                row_str.append(1)\n",
    "        else:\n",
    "            column_str.append(data_k)\n",
    "            row_str.append(data_v)\n",
<<<<<<< HEAD
    "\n",
    "    print()\n",
    "    try:\n",
    "        cursor = db.cursor()\n",
    "        sql = (\"INSERT INTO steam_test.steamtable (\"+(\",\".join(column_str)+\") VALUES {}\"\\\n",
    "                                                      .format(tuple(row_str))))\n",
=======
    "#             not_tag_key.append(data_k)\n",
    "    print()\n",
    "    try:\n",
    "        cursor = db.cursor()\n",
    "        sql = (\"INSERT INTO steam_test.steamtable (\"+(\",\".join(column_str)))\n",
    "        sql = sql+(\") VALUES {}\".format(tuple(row_str)))\n",
>>>>>>> b793b19177d6a117fbf5d1389844e0840bece5b1
    "        print(sql)\n",
    "        cursor.execute(sql)\n",
    "        db.commit()\n",
    "    finally:\n",
    "        print(\"insert ok!\")\n",
    "        pass\n",
    "                \n",
    "    count += 10"
   ]
  },
  {
   "cell_type": "code",
<<<<<<< HEAD
   "execution_count": null,
   "metadata": {},
   "outputs": [],
   "source": []
  },
  {
   "cell_type": "code",
   "execution_count": null,
   "metadata": {},
   "outputs": [],
   "source": []
  },
  {
   "cell_type": "code",
   "execution_count": null,
   "metadata": {},
   "outputs": [],
   "source": []
  },
  {
   "cell_type": "code",
   "execution_count": null,
   "metadata": {},
   "outputs": [],
   "source": []
  },
  {
   "cell_type": "code",
   "execution_count": null,
   "metadata": {},
   "outputs": [],
   "source": []
  },
  {
   "cell_type": "code",
   "execution_count": null,
   "metadata": {},
   "outputs": [],
   "source": []
  },
  {
   "cell_type": "code",
   "execution_count": null,
   "metadata": {},
   "outputs": [],
=======
   "execution_count": 16,
   "metadata": {},
   "outputs": [
    {
     "name": "stdout",
     "output_type": "stream",
     "text": [
      "INSERT INTO steam_test.steamtable (appid,median_forever,average_forever,tag_Simulation,tag_RPG,tag_Action__RPG,tag_Multiplayer,tag_Character_Customization,tag_Co_op,tag_Team_Based,tag_RTS,tag_Online_Co_Op,tag_PvP,tag_Replay_Value,tag_Competitive,tag_Free_to_Play,tag_Difficult,tag_MOBA,tag_Tower_Defense,tag_Action_,tag_Fantasy,tag_Strategy,tag_e_sports,median_2weeks,score_rank,negative,players_2weeks,developer,publisher,userscore,average_2weeks,owners,price,name,positive,players_forever,owners_variance,players_forever_variance,ccu,players_2weeks_variance) VALUES (570, 255, 11721, 1, 1, 1, 1, 1, 1, 1, 1, 1, 1, 1, 1, 1, 1, 1, 1, 1, 1, 1, 1, 623, 64, 102501, 9403855, 'Valve', 'Valve', 87, 1152, 118517616, '0', 'Dota 2', 745900, 118517616, 280846, 280846, 795976, 89900)\n"
     ]
    }
   ],
>>>>>>> b793b19177d6a117fbf5d1389844e0840bece5b1
   "source": []
  }
 ],
 "metadata": {
  "kernelspec": {
   "display_name": "Python 3",
   "language": "python",
   "name": "python3"
  },
  "language_info": {
   "codemirror_mode": {
    "name": "ipython",
    "version": 3
   },
   "file_extension": ".py",
   "mimetype": "text/x-python",
   "name": "python",
   "nbconvert_exporter": "python",
   "pygments_lexer": "ipython3",
   "version": "3.5.3"
  }
 },
 "nbformat": 4,
 "nbformat_minor": 2
}
