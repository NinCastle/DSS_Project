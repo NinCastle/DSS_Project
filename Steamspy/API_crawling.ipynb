{
 "cells": [
  {
   "cell_type": "markdown",
   "metadata": {},
   "source": [
    "## import part"
   ]
  },
  {
   "cell_type": "code",
   "execution_count": 1,
   "metadata": {
    "collapsed": true
   },
   "outputs": [],
   "source": [
    "from bs4 import BeautifulSoup\n",
    "import requests"
   ]
  },
  {
   "cell_type": "code",
   "execution_count": null,
   "metadata": {
    "collapsed": true
   },
   "outputs": [],
   "source": []
  },
  {
   "cell_type": "code",
   "execution_count": null,
   "metadata": {
    "collapsed": true
   },
   "outputs": [],
   "source": []
  },
  {
   "cell_type": "markdown",
   "metadata": {},
   "source": [
    "### steam wap page crawling"
   ]
  },
  {
   "cell_type": "markdown",
   "metadata": {},
   "source": [
    "title crawling"
   ]
  },
  {
   "cell_type": "code",
   "execution_count": 4,
   "metadata": {},
   "outputs": [
    {
     "name": "stdout",
     "output_type": "stream",
     "text": [
      "War Thunder on Steam\n"
     ]
    }
   ],
   "source": [
    "res = requests.get('http://store.steampowered.com/app/236390/War_Thunder/')\n",
    "soup = BeautifulSoup(res.content,'html.parser')\n",
    "title = soup.find('title')\n",
    "\n",
    "print(title.string)"
   ]
  },
  {
   "cell_type": "code",
   "execution_count": null,
   "metadata": {
    "collapsed": true
   },
   "outputs": [],
   "source": []
  },
  {
   "cell_type": "code",
   "execution_count": null,
   "metadata": {
    "collapsed": true
   },
   "outputs": [],
   "source": []
  },
  {
   "cell_type": "code",
   "execution_count": 7,
   "metadata": {},
   "outputs": [
    {
     "name": "stdout",
     "output_type": "stream",
     "text": [
      "{0: 0, 1: 1, 2: 2, 3: 3, 4: 4, 5: 5, 6: 6, 7: 7, 8: 8, 9: 9}\n"
     ]
    }
   ],
   "source": [
    "id_and_name = {}\n",
    "count = 0\n",
    "while count < 10:\n",
    "    id_and_name[count] = count\n",
    "    count += 1\n",
    "print(id_and_name)"
   ]
  },
  {
   "cell_type": "code",
   "execution_count": 8,
   "metadata": {},
   "outputs": [
    {
     "name": "stdout",
     "output_type": "stream",
     "text": [
      "{0: 'Welcome to Steam', 1: 'Welcome to Steam'}\n"
     ]
    }
   ],
   "source": [
    "from bs4 import BeautifulSoup\n",
    "\n",
    "id_and_name = {}\n",
    "count = 0\n",
    "while count <= 1:\n",
    "    res = requests.get('http://store.steampowered.com/app/{}'.format(count))\n",
    "    soup = BeautifulSoup(res.content, 'html.parser')\n",
    "    title = soup.find('title')\n",
    "    G_name = title.string\n",
    "    id_and_name[count] = G_name\n",
    "    count += 1\n",
    "print(id_and_name)"
   ]
  },
  {
   "cell_type": "code",
   "execution_count": 11,
   "metadata": {},
   "outputs": [
    {
     "name": "stdout",
     "output_type": "stream",
     "text": [
      "http://store.steampowered.com/app/0\n",
      "http://store.steampowered.com/app/0\n"
     ]
    }
   ],
   "source": [
    "count = '0'\n",
    "print('http://store.steampowered.com/app/'+ count)\n",
    "print('http://store.steampowered.com/app/{}'.format(count))"
   ]
  },
  {
   "cell_type": "code",
   "execution_count": null,
   "metadata": {
    "collapsed": true
   },
   "outputs": [],
   "source": []
  },
  {
   "cell_type": "code",
   "execution_count": null,
   "metadata": {
    "collapsed": true
   },
   "outputs": [],
   "source": []
  },
  {
   "cell_type": "markdown",
   "metadata": {},
   "source": [
    "Steam DB에서 크롤링 game ID와 제목 크롤링하기"
   ]
  },
  {
   "cell_type": "code",
   "execution_count": 5,
   "metadata": {},
   "outputs": [
    {
     "name": "stdout",
     "output_type": "stream",
     "text": [
      "Instant Search · Algolia · Steam Database\n"
     ]
    }
   ],
   "source": [
    "res = requests.get('https://steamdb.info/instantsearch/?q=&hPP=20&idx=steamdb&p=0&dFR%5BappType%5D%5B0%5D=Game')\n",
    "soup = BeautifulSoup(res.content,'html.parser')\n",
    "title = soup.find('title')\n",
    "\n",
    "print(title.string)"
   ]
  },
  {
   "cell_type": "code",
   "execution_count": null,
   "metadata": {
    "collapsed": true
   },
   "outputs": [],
   "source": [
    "res = requests.get('https://steamdb.info/instantsearch/?q=&hPP=20&idx=steamdb&p=0&dFR%5BappType%5D%5B0%5D=Game')\n",
    "soup = BeautifulSoup(res.content,'html.parser')"
   ]
  },
  {
   "cell_type": "code",
   "execution_count": null,
   "metadata": {
    "collapsed": true
   },
   "outputs": [],
   "source": []
  },
  {
   "cell_type": "code",
   "execution_count": null,
   "metadata": {
    "collapsed": true
   },
   "outputs": [],
   "source": []
  },
  {
   "cell_type": "code",
   "execution_count": null,
   "metadata": {
    "collapsed": true
   },
   "outputs": [],
   "source": []
  },
  {
   "cell_type": "code",
   "execution_count": null,
   "metadata": {
    "collapsed": true
   },
   "outputs": [],
   "source": []
  }
 ],
 "metadata": {
  "kernelspec": {
   "display_name": "Python 3",
   "language": "python",
   "name": "python3"
  },
  "language_info": {
   "codemirror_mode": {
    "name": "ipython",
    "version": 3
   },
   "file_extension": ".py",
   "mimetype": "text/x-python",
   "name": "python",
   "nbconvert_exporter": "python",
   "pygments_lexer": "ipython3",
   "version": "3.6.1"
  }
 },
 "nbformat": 4,
 "nbformat_minor": 2
}
